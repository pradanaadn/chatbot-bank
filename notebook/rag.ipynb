{
 "cells": [
  {
   "cell_type": "code",
   "execution_count": 2,
   "metadata": {},
   "outputs": [],
   "source": [
    "from langchain_community.document_loaders import DirectoryLoader\n"
   ]
  },
  {
   "cell_type": "code",
   "execution_count": null,
   "metadata": {},
   "outputs": [],
   "source": []
  },
  {
   "cell_type": "code",
   "execution_count": 3,
   "metadata": {},
   "outputs": [],
   "source": [
    "markdown_path = \"/home/pradanaend/Documents/Project/chatbot-bank/data/processed\"\n",
    "loader = DirectoryLoader(markdown_path)\n",
    "\n",
    "data = loader.load()\n",
    "readme_content = data[0].page_content\n"
   ]
  },
  {
   "cell_type": "code",
   "execution_count": 4,
   "metadata": {},
   "outputs": [],
   "source": [
    "from langchain.text_splitter import RecursiveCharacterTextSplitter\n",
    "\n",
    "def split_docs(documents,chunk_size=1000,chunk_overlap=500):\n",
    "  text_splitter = RecursiveCharacterTextSplitter(chunk_size=chunk_size, chunk_overlap=chunk_overlap)\n",
    "  docs = text_splitter.split_documents(documents)\n",
    "  return docs\n",
    "\n",
    "docs = split_docs(data)"
   ]
  },
  {
   "cell_type": "code",
   "execution_count": 5,
   "metadata": {},
   "outputs": [
    {
     "name": "stderr",
     "output_type": "stream",
     "text": [
      "/home/pradanaend/Documents/Project/chatbot-bank/.venv/lib/python3.12/site-packages/tqdm/auto.py:21: TqdmWarning: IProgress not found. Please update jupyter and ipywidgets. See https://ipywidgets.readthedocs.io/en/stable/user_install.html\n",
      "  from .autonotebook import tqdm as notebook_tqdm\n"
     ]
    }
   ],
   "source": [
    "from langchain_google_genai import GoogleGenerativeAIEmbeddings\n",
    "\n",
    "embeddings = GoogleGenerativeAIEmbeddings(model=\"models/embedding-001\")"
   ]
  },
  {
   "cell_type": "code",
   "execution_count": 6,
   "metadata": {},
   "outputs": [],
   "source": [
    "from langchain.vectorstores import Chroma\n",
    "db = Chroma.from_documents(docs, embeddings, persist_directory=\"./chroma_db\")"
   ]
  },
  {
   "cell_type": "code",
   "execution_count": 7,
   "metadata": {},
   "outputs": [
    {
     "name": "stderr",
     "output_type": "stream",
     "text": [
      "/tmp/ipykernel_392791/1452965151.py:2: LangChainDeprecationWarning: The class `Chroma` was deprecated in LangChain 0.2.9 and will be removed in 1.0. An updated version of the class exists in the :class:`~langchain-chroma package and should be used instead. To use it run `pip install -U :class:`~langchain-chroma` and import as `from :class:`~langchain_chroma import Chroma``.\n",
      "  vectorstore_disk = Chroma(\n"
     ]
    }
   ],
   "source": [
    "# Load from disk\n",
    "vectorstore_disk = Chroma(\n",
    "                        persist_directory=\"./chroma_db\",       # Directory of db\n",
    "                        embedding_function=embeddings   # Embedding model\n",
    "                   )\n",
    "# Get the Retriever interface for the store to use later.\n",
    "# When an unstructured query is given to a retriever it will return documents.\n",
    "# Read more about retrievers in the following link.\n",
    "# https://python.langchain.com/docs/modules/data_connection/retrievers/\n",
    "#\n",
    "# Since only 1 document is stored in the Chroma vector store, search_kwargs `k`\n",
    "# is set to 1 to decrease the `k` value of chroma's similarity search from 4 to\n",
    "# 1. If you don't pass this value, you will get a warning.\n",
    "retriever = vectorstore_disk.as_retriever(search_kwargs={\"k\": 11})\n"
   ]
  },
  {
   "cell_type": "code",
   "execution_count": 8,
   "metadata": {},
   "outputs": [],
   "source": [
    "query = \"\"\"\"\n",
    "BNI Life Spectra Double Power\n",
    "\"\"\"\n",
    "matching_docs = db.similarity_search(query, k=10)"
   ]
  },
  {
   "cell_type": "code",
   "execution_count": 9,
   "metadata": {},
   "outputs": [
    {
     "data": {
      "text/plain": [
       "[Document(metadata={'source': '/home/pradanaend/Documents/Project/chatbot-bank/data/processed/RIPLAY_Umum_BNI_Life_Spectra_Double_Power.md'}, page_content='RINGKASAN INFORMASI PRODUK DAN LAYANAN (RIPLAY) VERSI UMUM\\n\\nPenanggung PT BNI Life Insurance Deskripsi Produk BNI Life Spectra Double Power merupakan Produk Asuransi yang memberikan gabungan manfaat Endowment (manfaat meninggal dunia dan manfaat hidup) serta nilai tunai. Pemegang Polis Perorangan Tertanggung Perorangan Nama Produk BNI Life Spectra Double Power Jenis Produk Dwiguna Kombinasi Mata Uang Rupiah (IDR)\\n\\nBNI LIFE SPECTRA DOUBLE POWER\\n\\nFitur Utama Asuransi\\n\\nMasa Asuransi Uang Pertanggungan 5 tahun Maksimal 105% dari Premi Total Sekaligus 10 tahun Maksimal 110% dari Premi Total Sekaligus 15 tahun Maksimal 120% dari Premi Total Sekaligus 20 tahun Maksimal 130% dari Premi Total Sekaligus'),\n",
       " Document(metadata={'source': '/home/pradanaend/Documents/Project/chatbot-bank/data/processed/RIPLAY_Umum_BNI_Life_Spectra_Double_Power.md'}, page_content='RINGKASAN INFORMASI PRODUK DAN LAYANAN (RIPLAY) VERSI UMUM\\n\\nPenanggung PT BNI Life Insurance Deskripsi Produk BNI Life Spectra Double Power merupakan Produk Asuransi yang memberikan gabungan manfaat Endowment (manfaat meninggal dunia dan manfaat hidup) serta nilai tunai. Pemegang Polis Perorangan Tertanggung Perorangan Nama Produk BNI Life Spectra Double Power Jenis Produk Dwiguna Kombinasi Mata Uang Rupiah (IDR)\\n\\nBNI LIFE SPECTRA DOUBLE POWER\\n\\nFitur Utama Asuransi\\n\\nMasa Asuransi Uang Pertanggungan 5 tahun Maksimal 105% dari Premi Total Sekaligus 10 tahun Maksimal 110% dari Premi Total Sekaligus 15 tahun Maksimal 120% dari Premi Total Sekaligus 20 tahun Maksimal 130% dari Premi Total Sekaligus'),\n",
       " Document(metadata={'source': '/home/pradanaend/Documents/Project/chatbot-bank/data/processed/RIPLAY_Umum_BNI_Life_Spectra_Double_Power.md'}, page_content='Variabel yang tersisa setelah pengembalian Rp4.000.000,00 Strategi Pengelolaan Dana Variabel Terdapat tiga pilihan strategi pengelolaan Dana Variabel atas Produk BNI Life Spectra Double Power sesuai dengan profil risiko Tertanggung, sebagai berikut: 1. Hy – End Profil Risiko Rendah – Tinggi 0% - 100% Dana ditempatkan pada instrumen saham yang tercatat di Bursa Efek Jakarta 0% - 100% Dana ditempatkan pada surat berharga bersifat hutang atau Unit Pernyataan Reksa Dana Pendapatan Tetap 0% - 100% Dana ditempatkan pada instrument pasar uang/cash 2. Blife Dana Maksima Plus Profil Risiko Tinggi 80% - 100% Dana ditempatkan pada instrument saham yang tercatat di Bursa Efek Indonesia 0% - 20% Dana ditempatkan pada instrument pasar uang/cash 3. Blife Dana Stabil Plus Profil Risiko Rendah 80% - 100% Dana ditempatkan pada surat berharga bersifat hutang atau Unit Pernyataan Reksa Dana Pendapatan Tetap 0% - 20% Dana ditempatkan pada instrument pasar uang/cash Cooling-Off Period 15 hari kalender'),\n",
       " Document(metadata={'source': '/home/pradanaend/Documents/Project/chatbot-bank/data/processed/RIPLAY_Umum_BNI_Life_Spectra_Double_Power.md'}, page_content='Variabel yang tersisa setelah pengembalian Rp4.000.000,00 Strategi Pengelolaan Dana Variabel Terdapat tiga pilihan strategi pengelolaan Dana Variabel atas Produk BNI Life Spectra Double Power sesuai dengan profil risiko Tertanggung, sebagai berikut: 1. Hy – End Profil Risiko Rendah – Tinggi 0% - 100% Dana ditempatkan pada instrumen saham yang tercatat di Bursa Efek Jakarta 0% - 100% Dana ditempatkan pada surat berharga bersifat hutang atau Unit Pernyataan Reksa Dana Pendapatan Tetap 0% - 100% Dana ditempatkan pada instrument pasar uang/cash 2. Blife Dana Maksima Plus Profil Risiko Tinggi 80% - 100% Dana ditempatkan pada instrument saham yang tercatat di Bursa Efek Indonesia 0% - 20% Dana ditempatkan pada instrument pasar uang/cash 3. Blife Dana Stabil Plus Profil Risiko Rendah 80% - 100% Dana ditempatkan pada surat berharga bersifat hutang atau Unit Pernyataan Reksa Dana Pendapatan Tetap 0% - 20% Dana ditempatkan pada instrument pasar uang/cash Cooling-Off Period 15 hari kalender'),\n",
       " Document(metadata={'source': '/home/pradanaend/Documents/Project/chatbot-bank/data/processed/RIPLAY_Umum_BNI_Life_Spectra_Double_Power.md'}, page_content='Saran dan Keluhan\\n\\nNasabah dapat menyampaikan saran dan keluhan kepada:\\n\\nPT BNI Life Insurance Contact Center BNI Life Email: care@bni-life.co.id Customer Care: 1-500-045\\n\\nSurat atau tatap muka langsung dengan staf Customer Care di Kantor Pusat yang beralamat di:\\n\\nPT BNI Life Insurance Centennial Tower 9th Floor Jl. Gatot Subroto Kavling 24-25\\n\\nJakarta 12930\\n\\nSimulasi Produk BNI Life Spectra Double Power\\n\\nBNI Life Spectra Double Power\\n\\nNama Tertanggung: Sierra Mata Uang Polis: Rupiah (IDR)\\n\\nUang Pertanggungan:\\n\\nJenis Kelamin: Laki - laki\\n\\nRp52.500.00,00\\n\\nMasa Asuransi: 5 tahun\\n\\nTanggal Lahir: 7 Mei 1976\\n\\nTanggal Mulai Asuransi: 1 Oktober 2021\\n\\nUsia Tertanggung: 45 tahun Metode Pembayaran Premi: Sekaligus\\n\\nPembayaran Premi Sekaligus:\\n\\nPremi Endowment : Rp40.750.000,00 Premi Variabel : Rp9.250.000,00 Total Premi : Rp50.000.000,00\\n\\nManfaat Asuransi:\\n\\nApabila Tertanggung meninggal dunia dalam masa asuransi, maka kepada Ahli Waris/ Yang Ditunjukan'),\n",
       " Document(metadata={'source': '/home/pradanaend/Documents/Project/chatbot-bank/data/processed/RIPLAY_Umum_BNI_Life_Spectra_Double_Power.md'}, page_content='Saran dan Keluhan\\n\\nNasabah dapat menyampaikan saran dan keluhan kepada:\\n\\nPT BNI Life Insurance Contact Center BNI Life Email: care@bni-life.co.id Customer Care: 1-500-045\\n\\nSurat atau tatap muka langsung dengan staf Customer Care di Kantor Pusat yang beralamat di:\\n\\nPT BNI Life Insurance Centennial Tower 9th Floor Jl. Gatot Subroto Kavling 24-25\\n\\nJakarta 12930\\n\\nSimulasi Produk BNI Life Spectra Double Power\\n\\nBNI Life Spectra Double Power\\n\\nNama Tertanggung: Sierra Mata Uang Polis: Rupiah (IDR)\\n\\nUang Pertanggungan:\\n\\nJenis Kelamin: Laki - laki\\n\\nRp52.500.00,00\\n\\nMasa Asuransi: 5 tahun\\n\\nTanggal Lahir: 7 Mei 1976\\n\\nTanggal Mulai Asuransi: 1 Oktober 2021\\n\\nUsia Tertanggung: 45 tahun Metode Pembayaran Premi: Sekaligus\\n\\nPembayaran Premi Sekaligus:\\n\\nPremi Endowment : Rp40.750.000,00 Premi Variabel : Rp9.250.000,00 Total Premi : Rp50.000.000,00\\n\\nManfaat Asuransi:\\n\\nApabila Tertanggung meninggal dunia dalam masa asuransi, maka kepada Ahli Waris/ Yang Ditunjukan'),\n",
       " Document(metadata={'source': '/home/pradanaend/Documents/Project/chatbot-bank/data/processed/RIPLAY_Umum_BNI_Life_Spectra_Double_Power.md'}, page_content='> 2 tahun 100% dari Uang Pertanggungan Katentuan Underwriting Mengikuti ketentuan underwriting Individu yang berlaku Fasilitas Pengambilan Nilai Tunai 1. Nilai Tunai Endowment Jika Tertanggung melakukan penebusan Polis sebelum akhir masa asuransi, maka Tertanggung akan mendapatkan Nilai Tunai sebagaimana yang tertera pada Ringkasan Polis. 2. Nilai Tunai Variabel a. Nilai Tunai Variabel dapat diambil setiap saat b. Minimal pengembalian Nilai Tunai Variabel Rp1.000.000,00 c. Minimal Nilai Tunai Variabel yang tersisa setelah pengembalian Rp4.000.000,00 Strategi Pengelolaan Dana Variabel Terdapat tiga pilihan strategi pengelolaan Dana Variabel atas Produk BNI Life Spectra Double Power sesuai dengan profil risiko Tertanggung, sebagai berikut: 1. Hy – End Profil Risiko Rendah – Tinggi 0% - 100% Dana ditempatkan pada instrumen saham yang tercatat di Bursa Efek Jakarta 0% - 100% Dana ditempatkan pada surat berharga bersifat hutang atau Unit Pernyataan Reksa Dana Pendapatan Tetap 0% - 100%'),\n",
       " Document(metadata={'source': '/home/pradanaend/Documents/Project/chatbot-bank/data/processed/RIPLAY_Umum_BNI_Life_Spectra_Double_Power.md'}, page_content='> 2 tahun 100% dari Uang Pertanggungan Katentuan Underwriting Mengikuti ketentuan underwriting Individu yang berlaku Fasilitas Pengambilan Nilai Tunai 1. Nilai Tunai Endowment Jika Tertanggung melakukan penebusan Polis sebelum akhir masa asuransi, maka Tertanggung akan mendapatkan Nilai Tunai sebagaimana yang tertera pada Ringkasan Polis. 2. Nilai Tunai Variabel a. Nilai Tunai Variabel dapat diambil setiap saat b. Minimal pengembalian Nilai Tunai Variabel Rp1.000.000,00 c. Minimal Nilai Tunai Variabel yang tersisa setelah pengembalian Rp4.000.000,00 Strategi Pengelolaan Dana Variabel Terdapat tiga pilihan strategi pengelolaan Dana Variabel atas Produk BNI Life Spectra Double Power sesuai dengan profil risiko Tertanggung, sebagai berikut: 1. Hy – End Profil Risiko Rendah – Tinggi 0% - 100% Dana ditempatkan pada instrumen saham yang tercatat di Bursa Efek Jakarta 0% - 100% Dana ditempatkan pada surat berharga bersifat hutang atau Unit Pernyataan Reksa Dana Pendapatan Tetap 0% - 100%'),\n",
       " Document(metadata={'source': '/home/pradanaend/Documents/Project/chatbot-bank/data/processed/RIPLAY_Umum_BNI_Life_Spectra_Double_Power.md'}, page_content='Manfaat Hidup\\n\\nJika Tertanggung hidup pada akhir Masa Asuransi, dokumen yang diperlukan untuk menerima Manfaat Asuransi terdiri dari:\\n\\nBukti identitas diri Pemegang Polis,\\n\\nFormulir Pembayaran Manfaat Asuransi.\\n\\nPenanggung berhak meminta dokumen lain yang dianggap perlu untuk mendukung dokumen sebagaimana yang\\n\\ndimaksud di atas. 4. Pembayaran manfaat Asuransi dilaksanakan dengan segera atau selambat‐ lambatnya 15 (lima belas) hari\\n\\nkalender sejak pengajuan klaim disetujui oleh Penanggung.\\n\\nSaran dan Keluhan\\n\\nNasabah dapat menyampaikan saran dan keluhan kepada:\\n\\nPT BNI Life Insurance Contact Center BNI Life Email: care@bni-life.co.id Customer Care: 1-500-045\\n\\nSurat atau tatap muka langsung dengan staf Customer Care di Kantor Pusat yang beralamat di:\\n\\nPT BNI Life Insurance Centennial Tower 9th Floor Jl. Gatot Subroto Kavling 24-25\\n\\nJakarta 12930\\n\\nSimulasi Produk BNI Life Spectra Double Power\\n\\nBNI Life Spectra Double Power\\n\\nNama Tertanggung: Sierra Mata Uang Polis: Rupiah (IDR)'),\n",
       " Document(metadata={'source': '/home/pradanaend/Documents/Project/chatbot-bank/data/processed/RIPLAY_Umum_BNI_Life_Spectra_Double_Power.md'}, page_content='Manfaat Hidup\\n\\nJika Tertanggung hidup pada akhir Masa Asuransi, dokumen yang diperlukan untuk menerima Manfaat Asuransi terdiri dari:\\n\\nBukti identitas diri Pemegang Polis,\\n\\nFormulir Pembayaran Manfaat Asuransi.\\n\\nPenanggung berhak meminta dokumen lain yang dianggap perlu untuk mendukung dokumen sebagaimana yang\\n\\ndimaksud di atas. 4. Pembayaran manfaat Asuransi dilaksanakan dengan segera atau selambat‐ lambatnya 15 (lima belas) hari\\n\\nkalender sejak pengajuan klaim disetujui oleh Penanggung.\\n\\nSaran dan Keluhan\\n\\nNasabah dapat menyampaikan saran dan keluhan kepada:\\n\\nPT BNI Life Insurance Contact Center BNI Life Email: care@bni-life.co.id Customer Care: 1-500-045\\n\\nSurat atau tatap muka langsung dengan staf Customer Care di Kantor Pusat yang beralamat di:\\n\\nPT BNI Life Insurance Centennial Tower 9th Floor Jl. Gatot Subroto Kavling 24-25\\n\\nJakarta 12930\\n\\nSimulasi Produk BNI Life Spectra Double Power\\n\\nBNI Life Spectra Double Power\\n\\nNama Tertanggung: Sierra Mata Uang Polis: Rupiah (IDR)')]"
      ]
     },
     "execution_count": 9,
     "metadata": {},
     "output_type": "execute_result"
    }
   ],
   "source": [
    "matching_docs"
   ]
  },
  {
   "cell_type": "code",
   "execution_count": 10,
   "metadata": {},
   "outputs": [],
   "source": [
    "\n",
    "from langchain_google_genai import ChatGoogleGenerativeAI\n",
    "\n",
    "# If there is no environment variable set for the API key, you can pass the API\n",
    "# key to the parameter `google_api_key` of the `ChatGoogleGenerativeAI` function:\n",
    "# `google_api_key=\"key\"`.\n",
    "llm = ChatGoogleGenerativeAI(model=\"gemini-pro\",\n",
    "                 temperature=0.7, top_p=0.85)"
   ]
  },
  {
   "cell_type": "code",
   "execution_count": 11,
   "metadata": {},
   "outputs": [
    {
     "name": "stderr",
     "output_type": "stream",
     "text": [
      "USER_AGENT environment variable not set, consider setting it to identify your requests.\n"
     ]
    }
   ],
   "source": [
    "from langchain import PromptTemplate\n",
    "from langchain import hub\n",
    "from langchain.docstore.document import Document\n",
    "from langchain.document_loaders import WebBaseLoader\n",
    "from langchain.schema import StrOutputParser\n",
    "from langchain.schema.prompt_template import format_document\n",
    "from langchain.schema.runnable import RunnablePassthrough"
   ]
  },
  {
   "cell_type": "code",
   "execution_count": 12,
   "metadata": {},
   "outputs": [],
   "source": [
    "from langchain_google_genai import ChatGoogleGenerativeAI\n",
    "\n",
    "# If there is no environment variable set for the API key, you can pass the API\n",
    "# key to the parameter `google_api_key` of the `ChatGoogleGenerativeAI` function:\n",
    "# `google_api_key=\"key\"`.\n",
    "llm = ChatGoogleGenerativeAI(model=\"gemini-pro\",\n",
    "                 temperature=0.7, top_p=0.85)\n",
    "     "
   ]
  },
  {
   "cell_type": "code",
   "execution_count": 42,
   "metadata": {},
   "outputs": [
    {
     "name": "stdout",
     "output_type": "stream",
     "text": [
      "input_variables=['context', 'question'] input_types={} partial_variables={} template=\"You are an assistant for question-answering tasks.\\nUse the following context to answer the question.\\nUse five sentences maximum and keep the answer concise.\\n\\nEnsure to provide proper reference.\\nEnsure to search from all document provide.\\nIf you don't find the answer, ask to contact the office.\\nEnsure to use Bahasa Indonesia.\\nQuestion: {question} \\nContext: {context} \\nAnswer:\"\n"
     ]
    }
   ],
   "source": [
    "# Prompt template to query Gemini\n",
    "llm_prompt_template = \"\"\"You are an assistant for question-answering tasks.\n",
    "Use the following context to answer the question.\n",
    "Use five sentences maximum and keep the answer concise.\\n\n",
    "Ensure to provide proper reference.\n",
    "Ensure to search from all document provide.\n",
    "If you don't find the answer, ask to contact the office.\n",
    "Ensure to use Bahasa Indonesia.\n",
    "Question: {question} \\nContext: {context} \\nAnswer:\"\"\"\n",
    "\n",
    "llm_prompt = PromptTemplate.from_template(llm_prompt_template)\n",
    "\n",
    "print(llm_prompt)"
   ]
  },
  {
   "cell_type": "code",
   "execution_count": 43,
   "metadata": {},
   "outputs": [],
   "source": [
    "# Combine data from documents to readable string format.\n",
    "def format_docs(docs):\n",
    "    return \"\\n\\n\".join(doc.page_content for doc in docs)\n",
    "\n",
    "# Create stuff documents chain using LCEL.\n",
    "#\n",
    "# This is called a chain because you are chaining together different elements\n",
    "# with the LLM. In the following example, to create the stuff chain, you will\n",
    "# combine the relevant context from the website data matching the question, the\n",
    "# LLM model, and the output parser together like a chain using LCEL.\n",
    "#\n",
    "# The chain implements the following pipeline:\n",
    "# 1. Extract the website data relevant to the question from the Chroma\n",
    "#    vector store and save it to the variable `context`.\n",
    "# 2. `RunnablePassthrough` option to provide `question` when invoking\n",
    "#    the chain.\n",
    "# 3. The `context` and `question` are then passed to the prompt where they\n",
    "#    are populated in the respective variables.\n",
    "# 4. This prompt is then passed to the LLM (`gemini-pro`).\n",
    "# 5. Output from the LLM is passed through an output parser\n",
    "#    to structure the model's response.\n",
    "rag_chain = (\n",
    "    {\"context\": retriever | format_docs, \"question\": RunnablePassthrough()}\n",
    "    | llm_prompt\n",
    "    | llm\n",
    "    | StrOutputParser()\n",
    ")"
   ]
  },
  {
   "cell_type": "code",
   "execution_count": 45,
   "metadata": {},
   "outputs": [
    {
     "data": {
      "text/plain": [
       "'Ya, Anda dapat melakukan penarikan Nilai Tunai dari polis asuransi Anda dengan mengajukan Pinjaman Nilai Tunai. Persyaratannya antara lain:\\n- Dana maksimal yang dapat dipinjam adalah 80% dari total nilai tunai\\n- Mengisi Formulir pengajuan pinjaman polis\\n- Melampirkan fotokopi KTP/identitas diri yang berlaku\\n- Mengisi Surat Kuasa jika nomor rekening penerima manfaat berbeda dengan nomor rekening yang tercantum di polis.\\n\\n(Referensi: Dokumen yang disediakan, Q&A 1)'"
      ]
     },
     "execution_count": 45,
     "metadata": {},
     "output_type": "execute_result"
    }
   ],
   "source": [
    "rag_chain.invoke(\n",
    "    \"\"\"Apakah saya bisa melakukan penari-kan  Nilai  Tunai  dari  polis  asuransi  saya?\"\"\"\n",
    ")\n",
    "    "
   ]
  }
 ],
 "metadata": {
  "kernelspec": {
   "display_name": ".venv",
   "language": "python",
   "name": "python3"
  },
  "language_info": {
   "codemirror_mode": {
    "name": "ipython",
    "version": 3
   },
   "file_extension": ".py",
   "mimetype": "text/x-python",
   "name": "python",
   "nbconvert_exporter": "python",
   "pygments_lexer": "ipython3",
   "version": "3.12.6"
  }
 },
 "nbformat": 4,
 "nbformat_minor": 2
}
